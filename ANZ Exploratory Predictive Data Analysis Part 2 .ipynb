{
 "cells": [
  {
   "cell_type": "code",
   "execution_count": 105,
   "id": "c40b5324",
   "metadata": {},
   "outputs": [],
   "source": [
    "import pandas as pd\n",
    "import datetime\n",
    "import numpy as np\n",
    "import seaborn as sns # for visualization\n",
    "import matplotlib.pyplot as plt #for visualisation\n",
    "from sklearn.model_selection import train_test_split #for spliting data and machine learning  \n",
    "from sklearn.linear_model import LinearRegression\n",
    "from statsmodels.tools.eval_measures import rmse\n",
    "from sklearn.tree import DecisionTreeRegressor\n",
    "from sklearn.tree import DecisionTreeClassifier\n",
    "import warnings\n",
    "warnings.filterwarnings('ignore') #To remove warnings"
   ]
  },
  {
   "cell_type": "code",
   "execution_count": 12,
   "id": "d7a3070f",
   "metadata": {},
   "outputs": [],
   "source": [
    "data = pd.read_csv('./df2.csv')"
   ]
  },
  {
   "cell_type": "code",
   "execution_count": 13,
   "id": "5f0592e6",
   "metadata": {},
   "outputs": [
    {
     "data": {
      "text/html": [
       "<div>\n",
       "<style scoped>\n",
       "    .dataframe tbody tr th:only-of-type {\n",
       "        vertical-align: middle;\n",
       "    }\n",
       "\n",
       "    .dataframe tbody tr th {\n",
       "        vertical-align: top;\n",
       "    }\n",
       "\n",
       "    .dataframe thead th {\n",
       "        text-align: right;\n",
       "    }\n",
       "</style>\n",
       "<table border=\"1\" class=\"dataframe\">\n",
       "  <thead>\n",
       "    <tr style=\"text-align: right;\">\n",
       "      <th></th>\n",
       "      <th>status</th>\n",
       "      <th>account</th>\n",
       "      <th>long_lat</th>\n",
       "      <th>txn_description</th>\n",
       "      <th>merchant_id</th>\n",
       "      <th>balance</th>\n",
       "      <th>date</th>\n",
       "      <th>hour</th>\n",
       "      <th>gender</th>\n",
       "      <th>age</th>\n",
       "      <th>merchant_suburb</th>\n",
       "      <th>merchant_state</th>\n",
       "      <th>extraction</th>\n",
       "      <th>amount</th>\n",
       "      <th>transaction_id</th>\n",
       "      <th>customer_id</th>\n",
       "      <th>merchant_long_lat</th>\n",
       "      <th>movement</th>\n",
       "    </tr>\n",
       "  </thead>\n",
       "  <tbody>\n",
       "    <tr>\n",
       "      <th>0</th>\n",
       "      <td>authorized</td>\n",
       "      <td>ACC-1598451071</td>\n",
       "      <td>153.41 -27.95</td>\n",
       "      <td>POS</td>\n",
       "      <td>81c48296-73be-44a7-befa-d053f48ce7cd</td>\n",
       "      <td>35.39</td>\n",
       "      <td>01/08/2018</td>\n",
       "      <td>1</td>\n",
       "      <td>F</td>\n",
       "      <td>26</td>\n",
       "      <td>Ashmore</td>\n",
       "      <td>QLD</td>\n",
       "      <td>2018-08-01_01_01_15.000+0000</td>\n",
       "      <td>16.25</td>\n",
       "      <td>a623070bfead4541a6b0fff8a09e706c</td>\n",
       "      <td>CUS-2487424745</td>\n",
       "      <td>153.38 -27.99</td>\n",
       "      <td>debit</td>\n",
       "    </tr>\n",
       "    <tr>\n",
       "      <th>1</th>\n",
       "      <td>authorized</td>\n",
       "      <td>ACC-1598451071</td>\n",
       "      <td>153.41 -27.95</td>\n",
       "      <td>SALES-POS</td>\n",
       "      <td>830a451c-316e-4a6a-bf25-e37caedca49e</td>\n",
       "      <td>21.20</td>\n",
       "      <td>01/08/2018</td>\n",
       "      <td>1</td>\n",
       "      <td>F</td>\n",
       "      <td>26</td>\n",
       "      <td>Sydney</td>\n",
       "      <td>NSW</td>\n",
       "      <td>2018-08-01_01_13_45.000+0000</td>\n",
       "      <td>14.19</td>\n",
       "      <td>13270a2a902145da9db4c951e04b51b9</td>\n",
       "      <td>CUS-2487424745</td>\n",
       "      <td>151.21 -33.87</td>\n",
       "      <td>debit</td>\n",
       "    </tr>\n",
       "    <tr>\n",
       "      <th>2</th>\n",
       "      <td>authorized</td>\n",
       "      <td>ACC-1222300524</td>\n",
       "      <td>151.23 -33.94</td>\n",
       "      <td>POS</td>\n",
       "      <td>835c231d-8cdf-4e96-859d-e9d571760cf0</td>\n",
       "      <td>5.71</td>\n",
       "      <td>01/08/2018</td>\n",
       "      <td>1</td>\n",
       "      <td>M</td>\n",
       "      <td>38</td>\n",
       "      <td>Sydney</td>\n",
       "      <td>NSW</td>\n",
       "      <td>2018-08-01_01_26_15.000+0000</td>\n",
       "      <td>6.42</td>\n",
       "      <td>feb79e7ecd7048a5a36ec889d1a94270</td>\n",
       "      <td>CUS-2142601169</td>\n",
       "      <td>151.21 -33.87</td>\n",
       "      <td>debit</td>\n",
       "    </tr>\n",
       "    <tr>\n",
       "      <th>3</th>\n",
       "      <td>authorized</td>\n",
       "      <td>ACC-1037050564</td>\n",
       "      <td>153.10 -27.66</td>\n",
       "      <td>SALES-POS</td>\n",
       "      <td>48514682-c78a-4a88-b0da-2d6302e64673</td>\n",
       "      <td>2117.22</td>\n",
       "      <td>01/08/2018</td>\n",
       "      <td>1</td>\n",
       "      <td>F</td>\n",
       "      <td>40</td>\n",
       "      <td>Buderim</td>\n",
       "      <td>QLD</td>\n",
       "      <td>2018-08-01_01_38_45.000+0000</td>\n",
       "      <td>40.90</td>\n",
       "      <td>2698170da3704fd981b15e64a006079e</td>\n",
       "      <td>CUS-1614226872</td>\n",
       "      <td>153.05 -26.68</td>\n",
       "      <td>debit</td>\n",
       "    </tr>\n",
       "    <tr>\n",
       "      <th>4</th>\n",
       "      <td>authorized</td>\n",
       "      <td>ACC-1598451071</td>\n",
       "      <td>153.41 -27.95</td>\n",
       "      <td>SALES-POS</td>\n",
       "      <td>b4e02c10-0852-4273-b8fd-7b3395e32eb0</td>\n",
       "      <td>17.95</td>\n",
       "      <td>01/08/2018</td>\n",
       "      <td>1</td>\n",
       "      <td>F</td>\n",
       "      <td>26</td>\n",
       "      <td>Mermaid Beach</td>\n",
       "      <td>QLD</td>\n",
       "      <td>2018-08-01_01_51_15.000+0000</td>\n",
       "      <td>3.25</td>\n",
       "      <td>329adf79878c4cf0aeb4188b4691c266</td>\n",
       "      <td>CUS-2487424745</td>\n",
       "      <td>153.44 -28.06</td>\n",
       "      <td>debit</td>\n",
       "    </tr>\n",
       "  </tbody>\n",
       "</table>\n",
       "</div>"
      ],
      "text/plain": [
       "       status         account       long_lat txn_description  \\\n",
       "0  authorized  ACC-1598451071  153.41 -27.95             POS   \n",
       "1  authorized  ACC-1598451071  153.41 -27.95       SALES-POS   \n",
       "2  authorized  ACC-1222300524  151.23 -33.94             POS   \n",
       "3  authorized  ACC-1037050564  153.10 -27.66       SALES-POS   \n",
       "4  authorized  ACC-1598451071  153.41 -27.95       SALES-POS   \n",
       "\n",
       "                            merchant_id  balance        date  hour gender  \\\n",
       "0  81c48296-73be-44a7-befa-d053f48ce7cd    35.39  01/08/2018     1      F   \n",
       "1  830a451c-316e-4a6a-bf25-e37caedca49e    21.20  01/08/2018     1      F   \n",
       "2  835c231d-8cdf-4e96-859d-e9d571760cf0     5.71  01/08/2018     1      M   \n",
       "3  48514682-c78a-4a88-b0da-2d6302e64673  2117.22  01/08/2018     1      F   \n",
       "4  b4e02c10-0852-4273-b8fd-7b3395e32eb0    17.95  01/08/2018     1      F   \n",
       "\n",
       "   age merchant_suburb merchant_state                    extraction  amount  \\\n",
       "0   26         Ashmore            QLD  2018-08-01_01_01_15.000+0000   16.25   \n",
       "1   26          Sydney            NSW  2018-08-01_01_13_45.000+0000   14.19   \n",
       "2   38          Sydney            NSW  2018-08-01_01_26_15.000+0000    6.42   \n",
       "3   40         Buderim            QLD  2018-08-01_01_38_45.000+0000   40.90   \n",
       "4   26   Mermaid Beach            QLD  2018-08-01_01_51_15.000+0000    3.25   \n",
       "\n",
       "                     transaction_id     customer_id merchant_long_lat movement  \n",
       "0  a623070bfead4541a6b0fff8a09e706c  CUS-2487424745     153.38 -27.99    debit  \n",
       "1  13270a2a902145da9db4c951e04b51b9  CUS-2487424745     151.21 -33.87    debit  \n",
       "2  feb79e7ecd7048a5a36ec889d1a94270  CUS-2142601169     151.21 -33.87    debit  \n",
       "3  2698170da3704fd981b15e64a006079e  CUS-1614226872     153.05 -26.68    debit  \n",
       "4  329adf79878c4cf0aeb4188b4691c266  CUS-2487424745     153.44 -28.06    debit  "
      ]
     },
     "execution_count": 13,
     "metadata": {},
     "output_type": "execute_result"
    }
   ],
   "source": [
    "data.head()"
   ]
  },
  {
   "cell_type": "code",
   "execution_count": 14,
   "id": "1b105164",
   "metadata": {},
   "outputs": [
    {
     "data": {
      "text/plain": [
       "(12043, 18)"
      ]
     },
     "execution_count": 14,
     "metadata": {},
     "output_type": "execute_result"
    }
   ],
   "source": [
    "data.shape"
   ]
  },
  {
   "cell_type": "code",
   "execution_count": 15,
   "id": "f733bf37",
   "metadata": {},
   "outputs": [
    {
     "data": {
      "text/plain": [
       "status                0.000000\n",
       "account               0.000000\n",
       "long_lat              0.000000\n",
       "txn_description       0.000000\n",
       "merchant_id          35.921282\n",
       "balance               0.000000\n",
       "date                  0.000000\n",
       "hour                  0.000000\n",
       "gender                0.000000\n",
       "age                   0.000000\n",
       "merchant_suburb      35.921282\n",
       "merchant_state       35.921282\n",
       "extraction            0.000000\n",
       "amount                0.000000\n",
       "transaction_id        0.000000\n",
       "customer_id           0.000000\n",
       "merchant_long_lat    35.921282\n",
       "movement              0.000000\n",
       "dtype: float64"
      ]
     },
     "execution_count": 15,
     "metadata": {},
     "output_type": "execute_result"
    }
   ],
   "source": [
    "#data.isna().sum()\n",
    "data.isnull().sum()/data.shape[0]*100 # checking percentage of null values"
   ]
  },
  {
   "cell_type": "markdown",
   "id": "e622eba0",
   "metadata": {},
   "source": [
    "I am dropping all values tat has more than 30% null values except for merchant_suburb and merchant_state because they can be potentially useful in determining customer's income"
   ]
  },
  {
   "cell_type": "markdown",
   "id": "f3651250",
   "metadata": {},
   "source": [
    "### Data Preprocessing\n",
    "\n",
    "Calculate the Annual Salary from the total monthly salary derived from the data.\n",
    "\n",
    "Remove redundant columns\n",
    "\n",
    "Calculate annual expenditure per customer according to the debits each month.\n",
    "\n",
    "Calculate Number of large transactions, Average transaction amount, max amount spent on a transaction\n"
   ]
  },
  {
   "cell_type": "code",
   "execution_count": 17,
   "id": "6ea0448e",
   "metadata": {},
   "outputs": [],
   "source": [
    "data = data.drop([\"transaction_id\", \"long_lat\", \"merchant_long_lat\", \"extraction\", \"merchant_id\", \"hour\"], axis = 1)"
   ]
  },
  {
   "cell_type": "code",
   "execution_count": 18,
   "id": "db32ad06",
   "metadata": {},
   "outputs": [
    {
     "data": {
      "text/plain": [
       "Index(['status', 'account', 'txn_description', 'balance', 'date', 'gender',\n",
       "       'age', 'merchant_suburb', 'merchant_state', 'amount', 'customer_id',\n",
       "       'movement'],\n",
       "      dtype='object')"
      ]
     },
     "execution_count": 18,
     "metadata": {},
     "output_type": "execute_result"
    }
   ],
   "source": [
    "data.columns"
   ]
  },
  {
   "cell_type": "code",
   "execution_count": 19,
   "id": "d26c97c7",
   "metadata": {},
   "outputs": [
    {
     "name": "stdout",
     "output_type": "stream",
     "text": [
      "Total Number of Transactions is : 12043\n",
      "Total Number of Customers is : 100\n"
     ]
    }
   ],
   "source": [
    "unique_customer = data.customer_id.unique()\n",
    "print (\"Total Number of Transactions is :\", data.customer_id.count())\n",
    "#print('\\n')\n",
    "print (\"Total Number of Customers is :\", data.customer_id.nunique())"
   ]
  },
  {
   "cell_type": "code",
   "execution_count": 20,
   "id": "e370c9f9",
   "metadata": {
    "scrolled": true
   },
   "outputs": [
    {
     "data": {
      "text/plain": [
       "<seaborn.axisgrid.PairGrid at 0x101eacb8>"
      ]
     },
     "execution_count": 20,
     "metadata": {},
     "output_type": "execute_result"
    },
    {
     "data": {
      "image/png": "[encoded data removed]",
      "text/plain": [
       "<Figure size 540x540 with 12 Axes>"
      ]
     },
     "metadata": {
      "needs_background": "light"
     },
     "output_type": "display_data"
    }
   ],
   "source": [
    "sns.pairplot(data) # Exploring the types of relationships across the column"
   ]
  },
  {
   "cell_type": "code",
   "execution_count": 21,
   "id": "82f673b3",
   "metadata": {},
   "outputs": [
    {
     "data": {
      "text/html": [
       "<div>\n",
       "<style scoped>\n",
       "    .dataframe tbody tr th:only-of-type {\n",
       "        vertical-align: middle;\n",
       "    }\n",
       "\n",
       "    .dataframe tbody tr th {\n",
       "        vertical-align: top;\n",
       "    }\n",
       "\n",
       "    .dataframe thead th {\n",
       "        text-align: right;\n",
       "    }\n",
       "</style>\n",
       "<table border=\"1\" class=\"dataframe\">\n",
       "  <thead>\n",
       "    <tr style=\"text-align: right;\">\n",
       "      <th></th>\n",
       "      <th>customer_id</th>\n",
       "      <th>amount</th>\n",
       "      <th>annual_salary</th>\n",
       "    </tr>\n",
       "  </thead>\n",
       "  <tbody>\n",
       "    <tr>\n",
       "      <th>0</th>\n",
       "      <td>CUS-1005756958</td>\n",
       "      <td>12616.11</td>\n",
       "      <td>50464.44</td>\n",
       "    </tr>\n",
       "    <tr>\n",
       "      <th>1</th>\n",
       "      <td>CUS-1117979751</td>\n",
       "      <td>25050.55</td>\n",
       "      <td>100202.20</td>\n",
       "    </tr>\n",
       "    <tr>\n",
       "      <th>2</th>\n",
       "      <td>CUS-1140341822</td>\n",
       "      <td>11499.06</td>\n",
       "      <td>45996.24</td>\n",
       "    </tr>\n",
       "    <tr>\n",
       "      <th>3</th>\n",
       "      <td>CUS-1147642491</td>\n",
       "      <td>22248.07</td>\n",
       "      <td>88992.28</td>\n",
       "    </tr>\n",
       "    <tr>\n",
       "      <th>4</th>\n",
       "      <td>CUS-1196156254</td>\n",
       "      <td>27326.11</td>\n",
       "      <td>109304.44</td>\n",
       "    </tr>\n",
       "  </tbody>\n",
       "</table>\n",
       "</div>"
      ],
      "text/plain": [
       "      customer_id    amount  annual_salary\n",
       "0  CUS-1005756958  12616.11       50464.44\n",
       "1  CUS-1117979751  25050.55      100202.20\n",
       "2  CUS-1140341822  11499.06       45996.24\n",
       "3  CUS-1147642491  22248.07       88992.28\n",
       "4  CUS-1196156254  27326.11      109304.44"
      ]
     },
     "execution_count": 21,
     "metadata": {},
     "output_type": "execute_result"
    }
   ],
   "source": [
    "#Salary calculation\n",
    "data['trans_Month'] = pd.DatetimeIndex(data['date']).month\n",
    "salary = data[(data['txn_description'] == 'PAY/SALARY')] # all salary transactions\n",
    "salary= salary.pivot_table(index='customer_id',values='amount',aggfunc=np.sum) # suming the salary transtn for each cus\n",
    "salary.reset_index(inplace=True)\n",
    "salary['annual_salary'] = (round(salary['amount']*4,2)) # multiplying 3 months salary by 4 to get annual\n",
    "\n",
    "salary.head()"
   ]
  },
  {
   "cell_type": "code",
   "execution_count": 22,
   "id": "b656d64f",
   "metadata": {},
   "outputs": [
    {
     "data": {
      "text/html": [
       "<div>\n",
       "<style scoped>\n",
       "    .dataframe tbody tr th:only-of-type {\n",
       "        vertical-align: middle;\n",
       "    }\n",
       "\n",
       "    .dataframe tbody tr th {\n",
       "        vertical-align: top;\n",
       "    }\n",
       "\n",
       "    .dataframe thead th {\n",
       "        text-align: right;\n",
       "    }\n",
       "</style>\n",
       "<table border=\"1\" class=\"dataframe\">\n",
       "  <thead>\n",
       "    <tr style=\"text-align: right;\">\n",
       "      <th></th>\n",
       "      <th>customer_id</th>\n",
       "      <th>annual_salary</th>\n",
       "    </tr>\n",
       "  </thead>\n",
       "  <tbody>\n",
       "    <tr>\n",
       "      <th>0</th>\n",
       "      <td>CUS-1005756958</td>\n",
       "      <td>50464.44</td>\n",
       "    </tr>\n",
       "    <tr>\n",
       "      <th>1</th>\n",
       "      <td>CUS-1117979751</td>\n",
       "      <td>100202.20</td>\n",
       "    </tr>\n",
       "    <tr>\n",
       "      <th>2</th>\n",
       "      <td>CUS-1140341822</td>\n",
       "      <td>45996.24</td>\n",
       "    </tr>\n",
       "    <tr>\n",
       "      <th>3</th>\n",
       "      <td>CUS-1147642491</td>\n",
       "      <td>88992.28</td>\n",
       "    </tr>\n",
       "    <tr>\n",
       "      <th>4</th>\n",
       "      <td>CUS-1196156254</td>\n",
       "      <td>109304.44</td>\n",
       "    </tr>\n",
       "  </tbody>\n",
       "</table>\n",
       "</div>"
      ],
      "text/plain": [
       "      customer_id  annual_salary\n",
       "0  CUS-1005756958       50464.44\n",
       "1  CUS-1117979751      100202.20\n",
       "2  CUS-1140341822       45996.24\n",
       "3  CUS-1147642491       88992.28\n",
       "4  CUS-1196156254      109304.44"
      ]
     },
     "execution_count": 22,
     "metadata": {},
     "output_type": "execute_result"
    }
   ],
   "source": [
    "salary = salary.drop([\"amount\"],axis =1)\n",
    "salary.head()"
   ]
  },
  {
   "cell_type": "code",
   "execution_count": 23,
   "id": "bc6be786",
   "metadata": {},
   "outputs": [],
   "source": [
    "#Expense Calculation\n",
    "expenses = data[data['movement'] == 'debit']\n",
    "expenses = expenses.pivot_table(index='customer_id',values='amount',aggfunc=np.sum)\n",
    "expenses['Annual_Expense'] = round(expenses['amount']*4) # multiplying for annual expense\n",
    "expenses.reset_index(inplace=True)\n",
    "salary= pd.merge(salary,expenses[['customer_id','Annual_Expense']],on='customer_id', how='left') # Merging Expense& salary DF"
   ]
  },
  {
   "cell_type": "code",
   "execution_count": 24,
   "id": "0c47405a",
   "metadata": {},
   "outputs": [
    {
     "data": {
      "text/html": [
       "<div>\n",
       "<style scoped>\n",
       "    .dataframe tbody tr th:only-of-type {\n",
       "        vertical-align: middle;\n",
       "    }\n",
       "\n",
       "    .dataframe tbody tr th {\n",
       "        vertical-align: top;\n",
       "    }\n",
       "\n",
       "    .dataframe thead th {\n",
       "        text-align: right;\n",
       "    }\n",
       "</style>\n",
       "<table border=\"1\" class=\"dataframe\">\n",
       "  <thead>\n",
       "    <tr style=\"text-align: right;\">\n",
       "      <th></th>\n",
       "      <th>customer_id</th>\n",
       "      <th>annual_salary</th>\n",
       "      <th>Annual_Expense</th>\n",
       "    </tr>\n",
       "  </thead>\n",
       "  <tbody>\n",
       "    <tr>\n",
       "      <th>0</th>\n",
       "      <td>CUS-1005756958</td>\n",
       "      <td>50464.44</td>\n",
       "      <td>14611.0</td>\n",
       "    </tr>\n",
       "    <tr>\n",
       "      <th>1</th>\n",
       "      <td>CUS-1117979751</td>\n",
       "      <td>100202.20</td>\n",
       "      <td>35735.0</td>\n",
       "    </tr>\n",
       "    <tr>\n",
       "      <th>2</th>\n",
       "      <td>CUS-1140341822</td>\n",
       "      <td>45996.24</td>\n",
       "      <td>22046.0</td>\n",
       "    </tr>\n",
       "    <tr>\n",
       "      <th>3</th>\n",
       "      <td>CUS-1147642491</td>\n",
       "      <td>88992.28</td>\n",
       "      <td>26931.0</td>\n",
       "    </tr>\n",
       "    <tr>\n",
       "      <th>4</th>\n",
       "      <td>CUS-1196156254</td>\n",
       "      <td>109304.44</td>\n",
       "      <td>34898.0</td>\n",
       "    </tr>\n",
       "  </tbody>\n",
       "</table>\n",
       "</div>"
      ],
      "text/plain": [
       "      customer_id  annual_salary  Annual_Expense\n",
       "0  CUS-1005756958       50464.44         14611.0\n",
       "1  CUS-1117979751      100202.20         35735.0\n",
       "2  CUS-1140341822       45996.24         22046.0\n",
       "3  CUS-1147642491       88992.28         26931.0\n",
       "4  CUS-1196156254      109304.44         34898.0"
      ]
     },
     "execution_count": 24,
     "metadata": {},
     "output_type": "execute_result"
    }
   ],
   "source": [
    "salary.head()"
   ]
  },
  {
   "cell_type": "code",
   "execution_count": 25,
   "id": "8777c2dd",
   "metadata": {},
   "outputs": [],
   "source": [
    "age_gender = data[['customer_id','age','gender']] # calling the age and gender table \n",
    "age_gender.drop_duplicates(inplace=True) # keeping only one age and gender record for each customer"
   ]
  },
  {
   "cell_type": "code",
   "execution_count": 26,
   "id": "54db0ae5",
   "metadata": {},
   "outputs": [],
   "source": [
    "salary = pd.merge(salary,age_gender[['customer_id','age']],on='customer_id', how='left') # mergning age\n",
    "salary = pd.merge(salary,age_gender[['customer_id','gender']],on='customer_id', how='left') # mergning gender\n",
    "#salary = pd.merge(salary,data[['customer_id','gender']],on='customer_id', how='left')"
   ]
  },
  {
   "cell_type": "code",
   "execution_count": 27,
   "id": "dada685a",
   "metadata": {},
   "outputs": [
    {
     "data": {
      "text/html": [
       "<div>\n",
       "<style scoped>\n",
       "    .dataframe tbody tr th:only-of-type {\n",
       "        vertical-align: middle;\n",
       "    }\n",
       "\n",
       "    .dataframe tbody tr th {\n",
       "        vertical-align: top;\n",
       "    }\n",
       "\n",
       "    .dataframe thead th {\n",
       "        text-align: right;\n",
       "    }\n",
       "</style>\n",
       "<table border=\"1\" class=\"dataframe\">\n",
       "  <thead>\n",
       "    <tr style=\"text-align: right;\">\n",
       "      <th></th>\n",
       "      <th>customer_id</th>\n",
       "      <th>annual_salary</th>\n",
       "      <th>Annual_Expense</th>\n",
       "      <th>age</th>\n",
       "      <th>gender</th>\n",
       "    </tr>\n",
       "  </thead>\n",
       "  <tbody>\n",
       "    <tr>\n",
       "      <th>0</th>\n",
       "      <td>CUS-1005756958</td>\n",
       "      <td>50464.44</td>\n",
       "      <td>14611.0</td>\n",
       "      <td>53</td>\n",
       "      <td>F</td>\n",
       "    </tr>\n",
       "    <tr>\n",
       "      <th>1</th>\n",
       "      <td>CUS-1117979751</td>\n",
       "      <td>100202.20</td>\n",
       "      <td>35735.0</td>\n",
       "      <td>21</td>\n",
       "      <td>M</td>\n",
       "    </tr>\n",
       "    <tr>\n",
       "      <th>2</th>\n",
       "      <td>CUS-1140341822</td>\n",
       "      <td>45996.24</td>\n",
       "      <td>22046.0</td>\n",
       "      <td>28</td>\n",
       "      <td>M</td>\n",
       "    </tr>\n",
       "    <tr>\n",
       "      <th>3</th>\n",
       "      <td>CUS-1147642491</td>\n",
       "      <td>88992.28</td>\n",
       "      <td>26931.0</td>\n",
       "      <td>34</td>\n",
       "      <td>F</td>\n",
       "    </tr>\n",
       "    <tr>\n",
       "      <th>4</th>\n",
       "      <td>CUS-1196156254</td>\n",
       "      <td>109304.44</td>\n",
       "      <td>34898.0</td>\n",
       "      <td>34</td>\n",
       "      <td>F</td>\n",
       "    </tr>\n",
       "  </tbody>\n",
       "</table>\n",
       "</div>"
      ],
      "text/plain": [
       "      customer_id  annual_salary  Annual_Expense  age gender\n",
       "0  CUS-1005756958       50464.44         14611.0   53      F\n",
       "1  CUS-1117979751      100202.20         35735.0   21      M\n",
       "2  CUS-1140341822       45996.24         22046.0   28      M\n",
       "3  CUS-1147642491       88992.28         26931.0   34      F\n",
       "4  CUS-1196156254      109304.44         34898.0   34      F"
      ]
     },
     "execution_count": 27,
     "metadata": {},
     "output_type": "execute_result"
    }
   ],
   "source": [
    "salary.head()"
   ]
  },
  {
   "cell_type": "markdown",
   "id": "8f7de008",
   "metadata": {},
   "source": [
    "### Creating Extra Features"
   ]
  },
  {
   "cell_type": "code",
   "execution_count": 28,
   "id": "40cdb924",
   "metadata": {},
   "outputs": [
    {
     "data": {
      "text/plain": [
       "52.57234318996403"
      ]
     },
     "execution_count": 28,
     "metadata": {},
     "output_type": "execute_result"
    }
   ],
   "source": [
    "#Quick check on the average number of transactions across all customer and transaction\n",
    "data[(data['movement'] == 'debit')]['amount'].mean()"
   ]
  },
  {
   "cell_type": "code",
   "execution_count": 29,
   "id": "dec2a437",
   "metadata": {},
   "outputs": [
    {
     "data": {
      "text/plain": [
       "[22, 19, 15, 17, 27, 15, 20, 7, 19, 19, 15, 12, 14, 17, 19]"
      ]
     },
     "execution_count": 29,
     "metadata": {},
     "output_type": "execute_result"
    }
   ],
   "source": [
    "#counting the no of trasnactions that is three times the average spend\n",
    "large_trans = []\n",
    "for id in unique_customer:\n",
    "    count = 0\n",
    "    trans = data.loc[data.customer_id == id, \"amount\"]\n",
    "    for amount in trans:\n",
    "        if amount > data[(data['movement'] == 'debit')]['amount'].mean()*3: #no of trans times 3 of the average\n",
    "            count += 1\n",
    "    large_trans.append(count)\n",
    "large_trans[: 15]"
   ]
  },
  {
   "cell_type": "code",
   "execution_count": 30,
   "id": "637bd474",
   "metadata": {},
   "outputs": [
    {
     "data": {
      "text/plain": [
       "[1452.21, 2349.55, 892.09, 2320.3, 1068.04]"
      ]
     },
     "execution_count": 30,
     "metadata": {},
     "output_type": "execute_result"
    }
   ],
   "source": [
    "max_spend = []\n",
    "for id in unique_customer:\n",
    "    trans = data[(data['movement'] == 'debit')]\n",
    "    trans = data.loc[data.customer_id == id, \"amount\"]\n",
    "    max_spend.append(max(trans))\n",
    "max_spend[:5]"
   ]
  },
  {
   "cell_type": "code",
   "execution_count": 79,
   "id": "4e732c0e",
   "metadata": {},
   "outputs": [
    {
     "data": {
      "text/plain": [
       "[45.34877162629756,\n",
       " 78.20610561056101,\n",
       " 74.46501930501928,\n",
       " 159.3041860465116,\n",
       " 166.50835820895517]"
      ]
     },
     "execution_count": 79,
     "metadata": {},
     "output_type": "execute_result"
    }
   ],
   "source": [
    "avg_trans = []\n",
    "for id in unique_customer:\n",
    "    trans = data.loc[data.customer_id == id, \"amount\"]\n",
    "    avg_trans.append(trans.mean())\n",
    "avg_trans[:5]"
   ]
  },
  {
   "cell_type": "code",
   "execution_count": 32,
   "id": "7e916d4c",
   "metadata": {},
   "outputs": [
    {
     "data": {
      "text/html": [
       "<div>\n",
       "<style scoped>\n",
       "    .dataframe tbody tr th:only-of-type {\n",
       "        vertical-align: middle;\n",
       "    }\n",
       "\n",
       "    .dataframe tbody tr th {\n",
       "        vertical-align: top;\n",
       "    }\n",
       "\n",
       "    .dataframe thead th {\n",
       "        text-align: right;\n",
       "    }\n",
       "</style>\n",
       "<table border=\"1\" class=\"dataframe\">\n",
       "  <thead>\n",
       "    <tr style=\"text-align: right;\">\n",
       "      <th></th>\n",
       "      <th>customer_id</th>\n",
       "      <th>large_trans</th>\n",
       "      <th>max_spend</th>\n",
       "      <th>avg_trans</th>\n",
       "    </tr>\n",
       "  </thead>\n",
       "  <tbody>\n",
       "    <tr>\n",
       "      <th>0</th>\n",
       "      <td>CUS-2487424745</td>\n",
       "      <td>22</td>\n",
       "      <td>1452.21</td>\n",
       "      <td>45.348772</td>\n",
       "    </tr>\n",
       "    <tr>\n",
       "      <th>1</th>\n",
       "      <td>CUS-2142601169</td>\n",
       "      <td>19</td>\n",
       "      <td>2349.55</td>\n",
       "      <td>78.206106</td>\n",
       "    </tr>\n",
       "    <tr>\n",
       "      <th>2</th>\n",
       "      <td>CUS-1614226872</td>\n",
       "      <td>15</td>\n",
       "      <td>892.09</td>\n",
       "      <td>74.465019</td>\n",
       "    </tr>\n",
       "    <tr>\n",
       "      <th>3</th>\n",
       "      <td>CUS-2688605418</td>\n",
       "      <td>17</td>\n",
       "      <td>2320.30</td>\n",
       "      <td>159.304186</td>\n",
       "    </tr>\n",
       "    <tr>\n",
       "      <th>4</th>\n",
       "      <td>CUS-4123612273</td>\n",
       "      <td>27</td>\n",
       "      <td>1068.04</td>\n",
       "      <td>166.508358</td>\n",
       "    </tr>\n",
       "  </tbody>\n",
       "</table>\n",
       "</div>"
      ],
      "text/plain": [
       "      customer_id  large_trans  max_spend   avg_trans\n",
       "0  CUS-2487424745           22    1452.21   45.348772\n",
       "1  CUS-2142601169           19    2349.55   78.206106\n",
       "2  CUS-1614226872           15     892.09   74.465019\n",
       "3  CUS-2688605418           17    2320.30  159.304186\n",
       "4  CUS-4123612273           27    1068.04  166.508358"
      ]
     },
     "execution_count": 32,
     "metadata": {},
     "output_type": "execute_result"
    }
   ],
   "source": [
    "feature = pd.DataFrame({\"customer_id\":unique_customer, \"large_trans\":large_trans, \"max_spend\":max_spend,\n",
    "                            \"avg_trans\":avg_trans})\n",
    "feature.head()# putting the new features in a dataframe"
   ]
  },
  {
   "cell_type": "code",
   "execution_count": 33,
   "id": "f3c1afae",
   "metadata": {},
   "outputs": [
    {
     "data": {
      "text/html": [
       "<div>\n",
       "<style scoped>\n",
       "    .dataframe tbody tr th:only-of-type {\n",
       "        vertical-align: middle;\n",
       "    }\n",
       "\n",
       "    .dataframe tbody tr th {\n",
       "        vertical-align: top;\n",
       "    }\n",
       "\n",
       "    .dataframe thead th {\n",
       "        text-align: right;\n",
       "    }\n",
       "</style>\n",
       "<table border=\"1\" class=\"dataframe\">\n",
       "  <thead>\n",
       "    <tr style=\"text-align: right;\">\n",
       "      <th></th>\n",
       "      <th>customer_id</th>\n",
       "      <th>annual_salary</th>\n",
       "      <th>Annual_Expense</th>\n",
       "      <th>age</th>\n",
       "      <th>gender</th>\n",
       "      <th>large_trans</th>\n",
       "      <th>max_spend</th>\n",
       "      <th>avg_trans</th>\n",
       "    </tr>\n",
       "  </thead>\n",
       "  <tbody>\n",
       "    <tr>\n",
       "      <th>0</th>\n",
       "      <td>CUS-1005756958</td>\n",
       "      <td>50464.44</td>\n",
       "      <td>14611.0</td>\n",
       "      <td>53</td>\n",
       "      <td>F</td>\n",
       "      <td>18</td>\n",
       "      <td>970.47</td>\n",
       "      <td>222.862603</td>\n",
       "    </tr>\n",
       "    <tr>\n",
       "      <th>1</th>\n",
       "      <td>CUS-1117979751</td>\n",
       "      <td>100202.20</td>\n",
       "      <td>35735.0</td>\n",
       "      <td>21</td>\n",
       "      <td>M</td>\n",
       "      <td>13</td>\n",
       "      <td>3578.65</td>\n",
       "      <td>339.843700</td>\n",
       "    </tr>\n",
       "    <tr>\n",
       "      <th>2</th>\n",
       "      <td>CUS-1140341822</td>\n",
       "      <td>45996.24</td>\n",
       "      <td>22046.0</td>\n",
       "      <td>28</td>\n",
       "      <td>M</td>\n",
       "      <td>12</td>\n",
       "      <td>1916.51</td>\n",
       "      <td>212.632500</td>\n",
       "    </tr>\n",
       "    <tr>\n",
       "      <th>3</th>\n",
       "      <td>CUS-1147642491</td>\n",
       "      <td>88992.28</td>\n",
       "      <td>26931.0</td>\n",
       "      <td>34</td>\n",
       "      <td>F</td>\n",
       "      <td>26</td>\n",
       "      <td>1711.39</td>\n",
       "      <td>245.600169</td>\n",
       "    </tr>\n",
       "    <tr>\n",
       "      <th>4</th>\n",
       "      <td>CUS-1196156254</td>\n",
       "      <td>109304.44</td>\n",
       "      <td>34898.0</td>\n",
       "      <td>34</td>\n",
       "      <td>F</td>\n",
       "      <td>14</td>\n",
       "      <td>3903.73</td>\n",
       "      <td>147.145796</td>\n",
       "    </tr>\n",
       "  </tbody>\n",
       "</table>\n",
       "</div>"
      ],
      "text/plain": [
       "      customer_id  annual_salary  Annual_Expense  age gender  large_trans  \\\n",
       "0  CUS-1005756958       50464.44         14611.0   53      F           18   \n",
       "1  CUS-1117979751      100202.20         35735.0   21      M           13   \n",
       "2  CUS-1140341822       45996.24         22046.0   28      M           12   \n",
       "3  CUS-1147642491       88992.28         26931.0   34      F           26   \n",
       "4  CUS-1196156254      109304.44         34898.0   34      F           14   \n",
       "\n",
       "   max_spend   avg_trans  \n",
       "0     970.47  222.862603  \n",
       "1    3578.65  339.843700  \n",
       "2    1916.51  212.632500  \n",
       "3    1711.39  245.600169  \n",
       "4    3903.73  147.145796  "
      ]
     },
     "execution_count": 33,
     "metadata": {},
     "output_type": "execute_result"
    }
   ],
   "source": [
    "salary = pd.merge(salary,feature[[\"customer_id\",\"large_trans\", \"max_spend\", \"avg_trans\"]],on='customer_id', how='left')\n",
    "salary.head() # merging the two dataframes"
   ]
  },
  {
   "cell_type": "code",
   "execution_count": 34,
   "id": "35739421",
   "metadata": {},
   "outputs": [
    {
     "data": {
      "text/plain": [
       "<AxesSubplot:xlabel='annual_salary', ylabel='Density'>"
      ]
     },
     "execution_count": 34,
     "metadata": {},
     "output_type": "execute_result"
    },
    {
     "data": {
      "image/png": "[encoded data removed]",
      "text/plain": [
       "<Figure size 432x288 with 1 Axes>"
      ]
     },
     "metadata": {
      "needs_background": "light"
     },
     "output_type": "display_data"
    }
   ],
   "source": [
    "#checking the annual salary distribution\n",
    "sns.distplot(salary['annual_salary'])"
   ]
  },
  {
   "cell_type": "code",
   "execution_count": 35,
   "id": "b73dec78",
   "metadata": {},
   "outputs": [
    {
     "data": {
      "text/plain": [
       "<AxesSubplot:>"
      ]
     },
     "execution_count": 35,
     "metadata": {},
     "output_type": "execute_result"
    },
    {
     "data": {
      "image/png": "[encoded data removed]",
      "text/plain": [
       "<Figure size 576x432 with 2 Axes>"
      ]
     },
     "metadata": {
      "needs_background": "light"
     },
     "output_type": "display_data"
    }
   ],
   "source": [
    "#Checking the relationship between the variables\n",
    "plt.figure(figsize=(8, 6))\n",
    "sns.heatmap(salary.corr())"
   ]
  },
  {
   "cell_type": "markdown",
   "id": "a09c65da",
   "metadata": {},
   "source": [
    "Visualising  interesting correlations"
   ]
  },
  {
   "cell_type": "code",
   "execution_count": 85,
   "id": "e730de1e",
   "metadata": {},
   "outputs": [
    {
     "data": {
      "text/plain": [
       "Text(0, 0.5, 'Annual_Expense')"
      ]
     },
     "execution_count": 85,
     "metadata": {},
     "output_type": "execute_result"
    },
    {
     "data": {
      "image/png": "[encoded data removed]",
      "text/plain": [
       "<Figure size 432x288 with 1 Axes>"
      ]
     },
     "metadata": {
      "needs_background": "light"
     },
     "output_type": "display_data"
    }
   ],
   "source": [
    "plt.scatter(\"annual_salary\",\"Annual_Expense\", data= salary)\n",
    "plt.title(\"Scatter Plot Showing the relationship between Annual Expense and Annual Salary\")\n",
    "plt.xlabel('annual_salary')\n",
    "plt.ylabel('Annual_Expense')"
   ]
  },
  {
   "cell_type": "markdown",
   "id": "bd4a661f",
   "metadata": {},
   "source": [
    "For most people, their spending is influenced by their income bracket."
   ]
  },
  {
   "cell_type": "code",
   "execution_count": 97,
   "id": "3d7fc284",
   "metadata": {},
   "outputs": [
    {
     "data": {
      "text/plain": [
       "Text(0, 0.5, 'age')"
      ]
     },
     "execution_count": 97,
     "metadata": {},
     "output_type": "execute_result"
    },
    {
     "data": {
      "image/png": "[encoded data removed]",
      "text/plain": [
       "<Figure size 432x288 with 1 Axes>"
      ]
     },
     "metadata": {
      "needs_background": "light"
     },
     "output_type": "display_data"
    }
   ],
   "source": [
    "plt.scatter(\"age\", \"annual_salary\", data= salary)\n",
    "plt.title(\"The relationship between Age and Annual Salary\")\n",
    "plt.xlabel('annual_salary')\n",
    "plt.ylabel('age')"
   ]
  },
  {
   "cell_type": "markdown",
   "id": "17fc94e3",
   "metadata": {},
   "source": [
    "Age has slight relationship with annual salary"
   ]
  },
  {
   "cell_type": "code",
   "execution_count": 87,
   "id": "5bbd345f",
   "metadata": {},
   "outputs": [
    {
     "data": {
      "text/html": [
       "<div>\n",
       "<style scoped>\n",
       "    .dataframe tbody tr th:only-of-type {\n",
       "        vertical-align: middle;\n",
       "    }\n",
       "\n",
       "    .dataframe tbody tr th {\n",
       "        vertical-align: top;\n",
       "    }\n",
       "\n",
       "    .dataframe thead th {\n",
       "        text-align: right;\n",
       "    }\n",
       "</style>\n",
       "<table border=\"1\" class=\"dataframe\">\n",
       "  <thead>\n",
       "    <tr style=\"text-align: right;\">\n",
       "      <th></th>\n",
       "      <th>annual_salary</th>\n",
       "      <th>Annual_Expense</th>\n",
       "      <th>age</th>\n",
       "      <th>large_trans</th>\n",
       "      <th>max_spend</th>\n",
       "      <th>avg_trans</th>\n",
       "      <th>M</th>\n",
       "    </tr>\n",
       "  </thead>\n",
       "  <tbody>\n",
       "    <tr>\n",
       "      <th>0</th>\n",
       "      <td>50464.44</td>\n",
       "      <td>14611.0</td>\n",
       "      <td>53</td>\n",
       "      <td>18</td>\n",
       "      <td>970.47</td>\n",
       "      <td>222.862603</td>\n",
       "      <td>0</td>\n",
       "    </tr>\n",
       "    <tr>\n",
       "      <th>1</th>\n",
       "      <td>100202.20</td>\n",
       "      <td>35735.0</td>\n",
       "      <td>21</td>\n",
       "      <td>13</td>\n",
       "      <td>3578.65</td>\n",
       "      <td>339.843700</td>\n",
       "      <td>1</td>\n",
       "    </tr>\n",
       "    <tr>\n",
       "      <th>2</th>\n",
       "      <td>45996.24</td>\n",
       "      <td>22046.0</td>\n",
       "      <td>28</td>\n",
       "      <td>12</td>\n",
       "      <td>1916.51</td>\n",
       "      <td>212.632500</td>\n",
       "      <td>1</td>\n",
       "    </tr>\n",
       "    <tr>\n",
       "      <th>3</th>\n",
       "      <td>88992.28</td>\n",
       "      <td>26931.0</td>\n",
       "      <td>34</td>\n",
       "      <td>26</td>\n",
       "      <td>1711.39</td>\n",
       "      <td>245.600169</td>\n",
       "      <td>0</td>\n",
       "    </tr>\n",
       "    <tr>\n",
       "      <th>4</th>\n",
       "      <td>109304.44</td>\n",
       "      <td>34898.0</td>\n",
       "      <td>34</td>\n",
       "      <td>14</td>\n",
       "      <td>3903.73</td>\n",
       "      <td>147.145796</td>\n",
       "      <td>0</td>\n",
       "    </tr>\n",
       "  </tbody>\n",
       "</table>\n",
       "</div>"
      ],
      "text/plain": [
       "   annual_salary  Annual_Expense  age  large_trans  max_spend   avg_trans  M\n",
       "0       50464.44         14611.0   53           18     970.47  222.862603  0\n",
       "1      100202.20         35735.0   21           13    3578.65  339.843700  1\n",
       "2       45996.24         22046.0   28           12    1916.51  212.632500  1\n",
       "3       88992.28         26931.0   34           26    1711.39  245.600169  0\n",
       "4      109304.44         34898.0   34           14    3903.73  147.145796  0"
      ]
     },
     "execution_count": 87,
     "metadata": {},
     "output_type": "execute_result"
    }
   ],
   "source": [
    "salary.head()"
   ]
  },
  {
   "cell_type": "code",
   "execution_count": 98,
   "id": "56c915f4",
   "metadata": {},
   "outputs": [
    {
     "data": {
      "text/plain": [
       "Text(0, 0.5, 'large_trans')"
      ]
     },
     "execution_count": 98,
     "metadata": {},
     "output_type": "execute_result"
    },
    {
     "data": {
      "image/png": "[encoded data removed]",
      "text/plain": [
       "<Figure size 432x288 with 1 Axes>"
      ]
     },
     "metadata": {
      "needs_background": "light"
     },
     "output_type": "display_data"
    }
   ],
   "source": [
    "plt.scatter(\"annual_salary\", \"large_trans\", data= salary)\n",
    "plt.title(\"Relationship between number of large transactions and Annual Salary\")\n",
    "plt.xlabel('annual_salary')\n",
    "plt.ylabel('large_trans')"
   ]
  },
  {
   "cell_type": "code",
   "execution_count": 94,
   "id": "16ea3557",
   "metadata": {},
   "outputs": [
    {
     "data": {
      "text/plain": [
       "Text(0, 0.5, 'max_spend')"
      ]
     },
     "execution_count": 94,
     "metadata": {},
     "output_type": "execute_result"
    },
    {
     "data": {
      "image/png": "[encoded data removed]",
      "text/plain": [
       "<Figure size 432x288 with 1 Axes>"
      ]
     },
     "metadata": {
      "needs_background": "light"
     },
     "output_type": "display_data"
    }
   ],
   "source": [
    "plt.scatter(\"max_spend\", \"annual_salary\", data= salary)\n",
    "plt.title(\"Relationship between Max Amount Spent and Annual Salary\")\n",
    "plt.xlabel('annual_salary')\n",
    "plt.ylabel('max_spend')"
   ]
  },
  {
   "cell_type": "markdown",
   "id": "a9c8a707",
   "metadata": {},
   "source": [
    "### Final Data preparation"
   ]
  },
  {
   "cell_type": "code",
   "execution_count": 36,
   "id": "cb23b0d0",
   "metadata": {
    "scrolled": true
   },
   "outputs": [
    {
     "data": {
      "text/html": [
       "<div>\n",
       "<style scoped>\n",
       "    .dataframe tbody tr th:only-of-type {\n",
       "        vertical-align: middle;\n",
       "    }\n",
       "\n",
       "    .dataframe tbody tr th {\n",
       "        vertical-align: top;\n",
       "    }\n",
       "\n",
       "    .dataframe thead th {\n",
       "        text-align: right;\n",
       "    }\n",
       "</style>\n",
       "<table border=\"1\" class=\"dataframe\">\n",
       "  <thead>\n",
       "    <tr style=\"text-align: right;\">\n",
       "      <th></th>\n",
       "      <th>customer_id</th>\n",
       "      <th>annual_salary</th>\n",
       "      <th>Annual_Expense</th>\n",
       "      <th>age</th>\n",
       "      <th>gender</th>\n",
       "      <th>large_trans</th>\n",
       "      <th>max_spend</th>\n",
       "      <th>avg_trans</th>\n",
       "    </tr>\n",
       "  </thead>\n",
       "  <tbody>\n",
       "    <tr>\n",
       "      <th>0</th>\n",
       "      <td>CUS-1005756958</td>\n",
       "      <td>50464.44</td>\n",
       "      <td>14611.0</td>\n",
       "      <td>53</td>\n",
       "      <td>F</td>\n",
       "      <td>18</td>\n",
       "      <td>970.47</td>\n",
       "      <td>222.862603</td>\n",
       "    </tr>\n",
       "    <tr>\n",
       "      <th>1</th>\n",
       "      <td>CUS-1117979751</td>\n",
       "      <td>100202.20</td>\n",
       "      <td>35735.0</td>\n",
       "      <td>21</td>\n",
       "      <td>M</td>\n",
       "      <td>13</td>\n",
       "      <td>3578.65</td>\n",
       "      <td>339.843700</td>\n",
       "    </tr>\n",
       "    <tr>\n",
       "      <th>2</th>\n",
       "      <td>CUS-1140341822</td>\n",
       "      <td>45996.24</td>\n",
       "      <td>22046.0</td>\n",
       "      <td>28</td>\n",
       "      <td>M</td>\n",
       "      <td>12</td>\n",
       "      <td>1916.51</td>\n",
       "      <td>212.632500</td>\n",
       "    </tr>\n",
       "    <tr>\n",
       "      <th>3</th>\n",
       "      <td>CUS-1147642491</td>\n",
       "      <td>88992.28</td>\n",
       "      <td>26931.0</td>\n",
       "      <td>34</td>\n",
       "      <td>F</td>\n",
       "      <td>26</td>\n",
       "      <td>1711.39</td>\n",
       "      <td>245.600169</td>\n",
       "    </tr>\n",
       "    <tr>\n",
       "      <th>4</th>\n",
       "      <td>CUS-1196156254</td>\n",
       "      <td>109304.44</td>\n",
       "      <td>34898.0</td>\n",
       "      <td>34</td>\n",
       "      <td>F</td>\n",
       "      <td>14</td>\n",
       "      <td>3903.73</td>\n",
       "      <td>147.145796</td>\n",
       "    </tr>\n",
       "  </tbody>\n",
       "</table>\n",
       "</div>"
      ],
      "text/plain": [
       "      customer_id  annual_salary  Annual_Expense  age gender  large_trans  \\\n",
       "0  CUS-1005756958       50464.44         14611.0   53      F           18   \n",
       "1  CUS-1117979751      100202.20         35735.0   21      M           13   \n",
       "2  CUS-1140341822       45996.24         22046.0   28      M           12   \n",
       "3  CUS-1147642491       88992.28         26931.0   34      F           26   \n",
       "4  CUS-1196156254      109304.44         34898.0   34      F           14   \n",
       "\n",
       "   max_spend   avg_trans  \n",
       "0     970.47  222.862603  \n",
       "1    3578.65  339.843700  \n",
       "2    1916.51  212.632500  \n",
       "3    1711.39  245.600169  \n",
       "4    3903.73  147.145796  "
      ]
     },
     "execution_count": 36,
     "metadata": {},
     "output_type": "execute_result"
    }
   ],
   "source": [
    "salary.head()"
   ]
  },
  {
   "cell_type": "code",
   "execution_count": 37,
   "id": "72205653",
   "metadata": {
    "scrolled": true
   },
   "outputs": [
    {
     "data": {
      "text/html": [
       "<div>\n",
       "<style scoped>\n",
       "    .dataframe tbody tr th:only-of-type {\n",
       "        vertical-align: middle;\n",
       "    }\n",
       "\n",
       "    .dataframe tbody tr th {\n",
       "        vertical-align: top;\n",
       "    }\n",
       "\n",
       "    .dataframe thead th {\n",
       "        text-align: right;\n",
       "    }\n",
       "</style>\n",
       "<table border=\"1\" class=\"dataframe\">\n",
       "  <thead>\n",
       "    <tr style=\"text-align: right;\">\n",
       "      <th></th>\n",
       "      <th>M</th>\n",
       "    </tr>\n",
       "  </thead>\n",
       "  <tbody>\n",
       "    <tr>\n",
       "      <th>0</th>\n",
       "      <td>0</td>\n",
       "    </tr>\n",
       "    <tr>\n",
       "      <th>1</th>\n",
       "      <td>1</td>\n",
       "    </tr>\n",
       "    <tr>\n",
       "      <th>2</th>\n",
       "      <td>1</td>\n",
       "    </tr>\n",
       "  </tbody>\n",
       "</table>\n",
       "</div>"
      ],
      "text/plain": [
       "   M\n",
       "0  0\n",
       "1  1\n",
       "2  1"
      ]
     },
     "execution_count": 37,
     "metadata": {},
     "output_type": "execute_result"
    }
   ],
   "source": [
    "#converting the gender column to a numbers readable by SKlearn\n",
    "sex = pd.get_dummies(salary['gender'], drop_first = True)\n",
    "sex.head(3)"
   ]
  },
  {
   "cell_type": "code",
   "execution_count": 38,
   "id": "031eeded",
   "metadata": {},
   "outputs": [
    {
     "data": {
      "text/html": [
       "<div>\n",
       "<style scoped>\n",
       "    .dataframe tbody tr th:only-of-type {\n",
       "        vertical-align: middle;\n",
       "    }\n",
       "\n",
       "    .dataframe tbody tr th {\n",
       "        vertical-align: top;\n",
       "    }\n",
       "\n",
       "    .dataframe thead th {\n",
       "        text-align: right;\n",
       "    }\n",
       "</style>\n",
       "<table border=\"1\" class=\"dataframe\">\n",
       "  <thead>\n",
       "    <tr style=\"text-align: right;\">\n",
       "      <th></th>\n",
       "      <th>customer_id</th>\n",
       "      <th>annual_salary</th>\n",
       "      <th>Annual_Expense</th>\n",
       "      <th>age</th>\n",
       "      <th>gender</th>\n",
       "      <th>large_trans</th>\n",
       "      <th>max_spend</th>\n",
       "      <th>avg_trans</th>\n",
       "      <th>M</th>\n",
       "    </tr>\n",
       "  </thead>\n",
       "  <tbody>\n",
       "    <tr>\n",
       "      <th>0</th>\n",
       "      <td>CUS-1005756958</td>\n",
       "      <td>50464.44</td>\n",
       "      <td>14611.0</td>\n",
       "      <td>53</td>\n",
       "      <td>F</td>\n",
       "      <td>18</td>\n",
       "      <td>970.47</td>\n",
       "      <td>222.862603</td>\n",
       "      <td>0</td>\n",
       "    </tr>\n",
       "    <tr>\n",
       "      <th>1</th>\n",
       "      <td>CUS-1117979751</td>\n",
       "      <td>100202.20</td>\n",
       "      <td>35735.0</td>\n",
       "      <td>21</td>\n",
       "      <td>M</td>\n",
       "      <td>13</td>\n",
       "      <td>3578.65</td>\n",
       "      <td>339.843700</td>\n",
       "      <td>1</td>\n",
       "    </tr>\n",
       "    <tr>\n",
       "      <th>2</th>\n",
       "      <td>CUS-1140341822</td>\n",
       "      <td>45996.24</td>\n",
       "      <td>22046.0</td>\n",
       "      <td>28</td>\n",
       "      <td>M</td>\n",
       "      <td>12</td>\n",
       "      <td>1916.51</td>\n",
       "      <td>212.632500</td>\n",
       "      <td>1</td>\n",
       "    </tr>\n",
       "    <tr>\n",
       "      <th>3</th>\n",
       "      <td>CUS-1147642491</td>\n",
       "      <td>88992.28</td>\n",
       "      <td>26931.0</td>\n",
       "      <td>34</td>\n",
       "      <td>F</td>\n",
       "      <td>26</td>\n",
       "      <td>1711.39</td>\n",
       "      <td>245.600169</td>\n",
       "      <td>0</td>\n",
       "    </tr>\n",
       "    <tr>\n",
       "      <th>4</th>\n",
       "      <td>CUS-1196156254</td>\n",
       "      <td>109304.44</td>\n",
       "      <td>34898.0</td>\n",
       "      <td>34</td>\n",
       "      <td>F</td>\n",
       "      <td>14</td>\n",
       "      <td>3903.73</td>\n",
       "      <td>147.145796</td>\n",
       "      <td>0</td>\n",
       "    </tr>\n",
       "  </tbody>\n",
       "</table>\n",
       "</div>"
      ],
      "text/plain": [
       "      customer_id  annual_salary  Annual_Expense  age gender  large_trans  \\\n",
       "0  CUS-1005756958       50464.44         14611.0   53      F           18   \n",
       "1  CUS-1117979751      100202.20         35735.0   21      M           13   \n",
       "2  CUS-1140341822       45996.24         22046.0   28      M           12   \n",
       "3  CUS-1147642491       88992.28         26931.0   34      F           26   \n",
       "4  CUS-1196156254      109304.44         34898.0   34      F           14   \n",
       "\n",
       "   max_spend   avg_trans  M  \n",
       "0     970.47  222.862603  0  \n",
       "1    3578.65  339.843700  1  \n",
       "2    1916.51  212.632500  1  \n",
       "3    1711.39  245.600169  0  \n",
       "4    3903.73  147.145796  0  "
      ]
     },
     "execution_count": 38,
     "metadata": {},
     "output_type": "execute_result"
    }
   ],
   "source": [
    "salary = pd.concat([salary, sex], axis =1) # merging the gender column with salary df\n",
    "salary.head()"
   ]
  },
  {
   "cell_type": "markdown",
   "id": "b903ad7e",
   "metadata": {},
   "source": [
    "Explore correlations between annual salary and various customer attributes (e.g. age). "
   ]
  },
  {
   "cell_type": "markdown",
   "id": "a2a5ee79",
   "metadata": {},
   "source": [
    "### Building the Model\n",
    "\n",
    "Using Linear Regression"
   ]
  },
  {
   "cell_type": "code",
   "execution_count": 39,
   "id": "d91c2cbd",
   "metadata": {},
   "outputs": [],
   "source": [
    "salary.drop(['customer_id','gender'],axis=1,inplace=True)"
   ]
  },
  {
   "cell_type": "code",
   "execution_count": 40,
   "id": "254bde74",
   "metadata": {},
   "outputs": [],
   "source": [
    "X = salary.drop([\"annual_salary\"], axis = 1)\n",
    "y= salary[[\"annual_salary\"]]"
   ]
  },
  {
   "cell_type": "code",
   "execution_count": 41,
   "id": "c43b50b6",
   "metadata": {},
   "outputs": [],
   "source": [
    "X_train, X_test, y_train, y_test = train_test_split(X, y, test_size=0.35, random_state=101)"
   ]
  },
  {
   "cell_type": "code",
   "execution_count": 42,
   "id": "944ec77b",
   "metadata": {},
   "outputs": [],
   "source": [
    "lm = LinearRegression()"
   ]
  },
  {
   "cell_type": "code",
   "execution_count": 43,
   "id": "149d76d3",
   "metadata": {},
   "outputs": [
    {
     "data": {
      "text/plain": [
       "LinearRegression()"
      ]
     },
     "execution_count": 43,
     "metadata": {},
     "output_type": "execute_result"
    }
   ],
   "source": [
    "lm.fit(X_train,y_train)"
   ]
  },
  {
   "cell_type": "code",
   "execution_count": 44,
   "id": "c69b326f",
   "metadata": {
    "scrolled": true
   },
   "outputs": [
    {
     "name": "stdout",
     "output_type": "stream",
     "text": [
      "Coefficients: \n",
      " [[ 5.85037792e-01 -1.89272332e+02  1.13042086e+03  6.39828354e+00\n",
      "   8.17984053e+01  4.66763119e+03]]\n"
     ]
    }
   ],
   "source": [
    "# The coefficients\n",
    "print('Coefficients: \\n', lm.coef_)"
   ]
  },
  {
   "cell_type": "markdown",
   "id": "b6a4c541",
   "metadata": {},
   "source": [
    "### Predicting Test Data\n",
    "Now that we have fit our model, let's evaluate its performance by predicting off the test values!"
   ]
  },
  {
   "cell_type": "code",
   "execution_count": 46,
   "id": "0ff8ddc9",
   "metadata": {},
   "outputs": [],
   "source": [
    "predictions = lm.predict( X_test)"
   ]
  },
  {
   "cell_type": "code",
   "execution_count": 47,
   "id": "c62a78c8",
   "metadata": {},
   "outputs": [
    {
     "data": {
      "text/plain": [
       "Text(0, 0.5, 'Predicted Y')"
      ]
     },
     "execution_count": 47,
     "metadata": {},
     "output_type": "execute_result"
    },
    {
     "data": {
      "image/png": "[encoded data removed]",
      "text/plain": [
       "<Figure size 432x288 with 1 Axes>"
      ]
     },
     "metadata": {
      "needs_background": "light"
     },
     "output_type": "display_data"
    }
   ],
   "source": [
    "plt.scatter(y_test,predictions)\n",
    "plt.xlabel('Y Test')\n",
    "plt.ylabel('Predicted Y')"
   ]
  },
  {
   "cell_type": "markdown",
   "id": "b5f12903",
   "metadata": {},
   "source": [
    "## Evaluating the Model\n",
    "\n",
    "Let's evaluate our model performance by calculating the residual sum of squares and the explained variance score (R^2).\n",
    "\n",
    "The Mean Absolute Error, Mean Squared Error, and the Root Mean Squared Error."
   ]
  },
  {
   "cell_type": "code",
   "execution_count": 48,
   "id": "e9c862e3",
   "metadata": {
    "scrolled": false
   },
   "outputs": [
    {
     "name": "stdout",
     "output_type": "stream",
     "text": [
      "MAE: 16397.375736530983\n",
      "MSE: 426623191.2067364\n",
      "RMSE: 20654.85877963673\n"
     ]
    }
   ],
   "source": [
    "# calculate these metrics by hand!\n",
    "from sklearn import metrics\n",
    "\n",
    "print('MAE:', metrics.mean_absolute_error(y_test, predictions))\n",
    "print('MSE:', metrics.mean_squared_error(y_test, predictions))\n",
    "print('RMSE:', np.sqrt(metrics.mean_squared_error(y_test, predictions)))"
   ]
  },
  {
   "cell_type": "code",
   "execution_count": 45,
   "id": "b1a6d640",
   "metadata": {},
   "outputs": [],
   "source": [
    "from sklearn.metrics import mean_squared_error, r2_score"
   ]
  },
  {
   "cell_type": "code",
   "execution_count": 49,
   "id": "236a7f09",
   "metadata": {
    "scrolled": true
   },
   "outputs": [
    {
     "name": "stdout",
     "output_type": "stream",
     "text": [
      "Coefficient of determination:  0.493951001970132\n"
     ]
    }
   ],
   "source": [
    "print('Coefficient of determination: ', r2_score(y_test, predictions))"
   ]
  },
  {
   "cell_type": "markdown",
   "id": "be6530a7",
   "metadata": {},
   "source": [
    "### Decision Tree"
   ]
  },
  {
   "cell_type": "code",
   "execution_count": 109,
   "id": "dfc11161",
   "metadata": {},
   "outputs": [],
   "source": [
    "dtree = DecisionTreeRegressor()\n",
    "#dtree_pipeline = make_pipeline(column_transform, tree)"
   ]
  },
  {
   "cell_type": "code",
   "execution_count": 110,
   "id": "60fb9a3f",
   "metadata": {},
   "outputs": [
    {
     "data": {
      "text/plain": [
       "DecisionTreeRegressor()"
      ]
     },
     "execution_count": 110,
     "metadata": {},
     "output_type": "execute_result"
    }
   ],
   "source": [
    "dtree.fit(X_train,y_train)"
   ]
  },
  {
   "cell_type": "code",
   "execution_count": 111,
   "id": "9110ce71",
   "metadata": {},
   "outputs": [],
   "source": [
    "predictions = dtree.predict(X_test)"
   ]
  },
  {
   "cell_type": "code",
   "execution_count": 118,
   "id": "392022b9",
   "metadata": {
    "scrolled": true
   },
   "outputs": [
    {
     "name": "stdout",
     "output_type": "stream",
     "text": [
      "Coefficient of determination:  0.18464842132231296\n"
     ]
    }
   ],
   "source": [
    "print('Coefficient of determination: ', r2_score(y_test, predictions))"
   ]
  },
  {
   "cell_type": "code",
   "execution_count": 120,
   "id": "0cdc2e14",
   "metadata": {},
   "outputs": [
    {
     "name": "stdout",
     "output_type": "stream",
     "text": [
      "RMSE:  26218\n"
     ]
    }
   ],
   "source": [
    "print(\"RMSE: \", round(np.sqrt(mean_squared_error(predictions, y_test))))"
   ]
  },
  {
   "cell_type": "markdown",
   "id": "e0e94cc5",
   "metadata": {},
   "source": [
    "### Finding"
   ]
  },
  {
   "cell_type": "markdown",
   "id": "ba534e5b",
   "metadata": {},
   "source": [
    "The accurancy of the linear regression model is 49% (which is way better than the 18% accuracy of decision tree) but it has an rmse value of 20656 a little better than decison treet. The data available is not sufficiently reliable to predict employers salary accurately. \n",
    "\n",
    "Let's see if we can improve the accuracy if we train more features - features available is the merchant state and merchant Surburbs\n",
    "\n",
    "\n",
    "\n",
    "##More data is required to develop a more reliable model."
   ]
  },
  {
   "cell_type": "code",
   "execution_count": 66,
   "id": "9ed975d3",
   "metadata": {},
   "outputs": [],
   "source": [
    "location = data[['customer_id','merchant_suburb','merchant_state']]\n",
    "location.drop_duplicates(subset =[\"customer_id\"], inplace=True)"
   ]
  },
  {
   "cell_type": "code",
   "execution_count": 70,
   "id": "aa33108a",
   "metadata": {},
   "outputs": [
    {
     "data": {
      "text/plain": [
       "customer_id         0\n",
       "merchant_suburb    43\n",
       "merchant_state     43\n",
       "dtype: int64"
      ]
     },
     "execution_count": 70,
     "metadata": {},
     "output_type": "execute_result"
    }
   ],
   "source": [
    "location.isna().sum()"
   ]
  },
  {
   "cell_type": "markdown",
   "id": "23a7523b",
   "metadata": {},
   "source": [
    "### Conculsion\n",
    "Attempt to train more features proved frutile as the two other relevant columns have 43 missing values. Therefore more data is required to build an accurate predictive model."
   ]
  }
 ],
 "metadata": {
  "kernelspec": {
   "display_name": "Python 3 (ipykernel)",
   "language": "python",
   "name": "python3"
  },
  "language_info": {
   "codemirror_mode": {
    "name": "ipython",
    "version": 3
   },
   "file_extension": ".py",
   "mimetype": "text/x-python",
   "name": "python",
   "nbconvert_exporter": "python",
   "pygments_lexer": "ipython3",
   "version": "3.9.7"
  }
 },
 "nbformat": 4,
 "nbformat_minor": 5
}
